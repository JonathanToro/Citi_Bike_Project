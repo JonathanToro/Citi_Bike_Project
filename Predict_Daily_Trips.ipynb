{
 "cells": [
  {
   "cell_type": "code",
   "execution_count": 27,
   "metadata": {
    "collapsed": false
   },
   "outputs": [
    {
     "data": {
      "text/html": [
       "<style>.container { width:100% !important; }</style>"
      ],
      "text/plain": [
       "<IPython.core.display.HTML object>"
      ]
     },
     "metadata": {},
     "output_type": "display_data"
    }
   ],
   "source": [
    "from IPython.core.display import display, HTML\n",
    "display(HTML(\"<style>.container { width:100% !important; }</style>\"))\n",
    "\n",
    "import pandas as pd\n",
    "import numpy as np\n",
    "import seaborn as sns\n",
    "import matplotlib.pyplot as plt\n",
    "import dateutil.parser\n",
    "import matplotlib.patches as mpatches\n",
    "import re\n",
    "import operator\n",
    "import statsmodels.api as sm\n",
    "from sklearn.linear_model import LinearRegression, Ridge\n",
    "from sklearn.cross_validation import train_test_split\n",
    "from sklearn.metrics import accuracy_score\n",
    "\n",
    "%matplotlib inline"
   ]
  },
  {
   "cell_type": "markdown",
   "metadata": {},
   "source": [
    "## Load the Data"
   ]
  },
  {
   "cell_type": "code",
   "execution_count": 28,
   "metadata": {
    "collapsed": true
   },
   "outputs": [],
   "source": [
    "first_part = \"2015_data/2015\"\n",
    "second_part = \"-citibike-tripdata.csv\"\n",
    "months = ['01','02','03','04','05','06','07','08','09','10','11','12']"
   ]
  },
  {
   "cell_type": "code",
   "execution_count": 30,
   "metadata": {
    "collapsed": false
   },
   "outputs": [],
   "source": [
    "citi = pd.DataFrame()\n",
    "for i in months:\n",
    "    file = first_part+i+second_part\n",
    "    data = pd.read_csv(file)\n",
    "    citi = pd.concat([citi,data])"
   ]
  },
  {
   "cell_type": "code",
   "execution_count": 31,
   "metadata": {
    "collapsed": false
   },
   "outputs": [],
   "source": [
    "trips = pd.DataFrame(citi[\"starttime\"], columns = [\"starttime\"])"
   ]
  },
  {
   "cell_type": "code",
   "execution_count": 32,
   "metadata": {
    "collapsed": false
   },
   "outputs": [],
   "source": [
    "days = list(range(1,32))\n",
    "months = list(range(1,13))\n",
    "\n",
    "all_days = []\n",
    "for m in months:\n",
    "    for d in days:\n",
    "        all_days.append(str(m)+'/'+str(d)+'/'+str(2015))"
   ]
  },
  {
   "cell_type": "code",
   "execution_count": 33,
   "metadata": {
    "collapsed": true
   },
   "outputs": [],
   "source": [
    "invalid_days = ['2/29/2015','2/30/2015','2/31/2015','4/31/2015','6/31/2015','9/31/2015','11/31/2015']"
   ]
  },
  {
   "cell_type": "code",
   "execution_count": 34,
   "metadata": {
    "collapsed": true
   },
   "outputs": [],
   "source": [
    "indexes_to_remove = []\n",
    "for i in invalid_days:\n",
    "    indexes_to_remove.append(all_days.index(i))\n",
    "    \n",
    "for i in indexes_to_remove[::-1]:\n",
    "    all_days.pop(i)"
   ]
  },
  {
   "cell_type": "code",
   "execution_count": 35,
   "metadata": {
    "collapsed": true
   },
   "outputs": [],
   "source": [
    "def fix_starttime(date):\n",
    "    date = date.split(\" \")\n",
    "    return date[0]"
   ]
  },
  {
   "cell_type": "code",
   "execution_count": 36,
   "metadata": {
    "collapsed": true
   },
   "outputs": [],
   "source": [
    "trips[\"Date\"] = trips[\"starttime\"].apply(fix_starttime) \n",
    "trips = trips.drop(\"starttime\",1)\n",
    "trips[\"total_trips\"] = 1"
   ]
  },
  {
   "cell_type": "code",
   "execution_count": 37,
   "metadata": {
    "collapsed": false
   },
   "outputs": [],
   "source": [
    "trips = trips.groupby(\"Date\",as_index = False).sum()"
   ]
  },
  {
   "cell_type": "code",
   "execution_count": 38,
   "metadata": {
    "collapsed": true
   },
   "outputs": [],
   "source": [
    "## The first day of 2015 is Thursday so the pattern to follow is weekday, weekday, weekend,\n",
    "## weekend, weekday, weekday, weekday\n",
    "\n",
    "weekend_pattern = [\"0\", \"0\", \"1\", \"1\", \"0\", \"0\", \"0\"]\n",
    "## Where weekday = 0 and weekend = 1\n",
    "all_year_pattern = weekend_pattern * 52\n",
    "all_year_pattern = all_year_pattern + [\"0\"]"
   ]
  },
  {
   "cell_type": "code",
   "execution_count": 39,
   "metadata": {
    "collapsed": true
   },
   "outputs": [],
   "source": [
    "date_weekday = {}\n",
    "for a, b in zip(all_days, all_year_pattern):\n",
    "    date_weekday[a] = b\n",
    "    \n",
    "def is_weekend(date):\n",
    "    separate = date.split(\" \")\n",
    "    return int(date_weekday[separate[0]])"
   ]
  },
  {
   "cell_type": "code",
   "execution_count": 40,
   "metadata": {
    "collapsed": false
   },
   "outputs": [],
   "source": [
    "trips[\"is_weekend\"] = trips[\"Date\"].apply(is_weekend)"
   ]
  },
  {
   "cell_type": "code",
   "execution_count": 41,
   "metadata": {
    "collapsed": true
   },
   "outputs": [],
   "source": [
    "def seasons(date):\n",
    "    date = date.split('/')\n",
    "    month = int(date[0])\n",
    "    \n",
    "    winter = [1,2,3]\n",
    "    spring = [4,5,6]\n",
    "    summer = [7,8,9]\n",
    "    fall = [10,11,12]\n",
    "    \n",
    "    if month in winter:\n",
    "        return 1\n",
    "    elif month in spring:\n",
    "        return 2\n",
    "    elif month in summer:\n",
    "        return 3\n",
    "    else:\n",
    "        return 4"
   ]
  },
  {
   "cell_type": "code",
   "execution_count": 42,
   "metadata": {
    "collapsed": false
   },
   "outputs": [],
   "source": [
    "trips[\"season\"] = trips['Date'].apply(seasons)"
   ]
  },
  {
   "cell_type": "code",
   "execution_count": 43,
   "metadata": {
    "collapsed": false
   },
   "outputs": [],
   "source": [
    "weather = pd.read_csv(\"weather_data.csv\") ## read in weather data\n",
    "weather = weather.drop(\"Unnamed: 0\",1)"
   ]
  },
  {
   "cell_type": "code",
   "execution_count": 44,
   "metadata": {
    "collapsed": false
   },
   "outputs": [
    {
     "data": {
      "text/html": [
       "<div>\n",
       "<table border=\"1\" class=\"dataframe\">\n",
       "  <thead>\n",
       "    <tr style=\"text-align: right;\">\n",
       "      <th></th>\n",
       "      <th>Date</th>\n",
       "      <th>mean_temp</th>\n",
       "      <th>max_temp</th>\n",
       "      <th>min_temp</th>\n",
       "      <th>average_humid</th>\n",
       "      <th>max_humid</th>\n",
       "      <th>min_humid</th>\n",
       "    </tr>\n",
       "  </thead>\n",
       "  <tbody>\n",
       "    <tr>\n",
       "      <th>0</th>\n",
       "      <td>1/1/2015</td>\n",
       "      <td>33.0</td>\n",
       "      <td>39.0</td>\n",
       "      <td>27.0</td>\n",
       "      <td>37.0</td>\n",
       "      <td>46.0</td>\n",
       "      <td>27.0</td>\n",
       "    </tr>\n",
       "    <tr>\n",
       "      <th>1</th>\n",
       "      <td>1/2/2015</td>\n",
       "      <td>39.0</td>\n",
       "      <td>42.0</td>\n",
       "      <td>35.0</td>\n",
       "      <td>43.0</td>\n",
       "      <td>52.0</td>\n",
       "      <td>33.0</td>\n",
       "    </tr>\n",
       "    <tr>\n",
       "      <th>2</th>\n",
       "      <td>1/3/2015</td>\n",
       "      <td>38.0</td>\n",
       "      <td>42.0</td>\n",
       "      <td>33.0</td>\n",
       "      <td>68.0</td>\n",
       "      <td>92.0</td>\n",
       "      <td>44.0</td>\n",
       "    </tr>\n",
       "    <tr>\n",
       "      <th>3</th>\n",
       "      <td>1/4/2015</td>\n",
       "      <td>49.0</td>\n",
       "      <td>56.0</td>\n",
       "      <td>41.0</td>\n",
       "      <td>88.0</td>\n",
       "      <td>93.0</td>\n",
       "      <td>83.0</td>\n",
       "    </tr>\n",
       "    <tr>\n",
       "      <th>4</th>\n",
       "      <td>1/5/2015</td>\n",
       "      <td>35.0</td>\n",
       "      <td>49.0</td>\n",
       "      <td>21.0</td>\n",
       "      <td>38.0</td>\n",
       "      <td>49.0</td>\n",
       "      <td>26.0</td>\n",
       "    </tr>\n",
       "  </tbody>\n",
       "</table>\n",
       "</div>"
      ],
      "text/plain": [
       "       Date  mean_temp  max_temp  min_temp  average_humid  max_humid  \\\n",
       "0  1/1/2015       33.0      39.0      27.0           37.0       46.0   \n",
       "1  1/2/2015       39.0      42.0      35.0           43.0       52.0   \n",
       "2  1/3/2015       38.0      42.0      33.0           68.0       92.0   \n",
       "3  1/4/2015       49.0      56.0      41.0           88.0       93.0   \n",
       "4  1/5/2015       35.0      49.0      21.0           38.0       49.0   \n",
       "\n",
       "   min_humid  \n",
       "0       27.0  \n",
       "1       33.0  \n",
       "2       44.0  \n",
       "3       83.0  \n",
       "4       26.0  "
      ]
     },
     "execution_count": 44,
     "metadata": {},
     "output_type": "execute_result"
    }
   ],
   "source": [
    "weather.head()"
   ]
  },
  {
   "cell_type": "code",
   "execution_count": 45,
   "metadata": {
    "collapsed": false
   },
   "outputs": [],
   "source": [
    "data = trips.merge(weather,how = \"inner\")"
   ]
  },
  {
   "cell_type": "code",
   "execution_count": 46,
   "metadata": {
    "collapsed": false
   },
   "outputs": [
    {
     "data": {
      "text/html": [
       "<div>\n",
       "<table border=\"1\" class=\"dataframe\">\n",
       "  <thead>\n",
       "    <tr style=\"text-align: right;\">\n",
       "      <th></th>\n",
       "      <th>Date</th>\n",
       "      <th>total_trips</th>\n",
       "      <th>is_weekend</th>\n",
       "      <th>season</th>\n",
       "      <th>mean_temp</th>\n",
       "      <th>max_temp</th>\n",
       "      <th>min_temp</th>\n",
       "      <th>average_humid</th>\n",
       "      <th>max_humid</th>\n",
       "      <th>min_humid</th>\n",
       "    </tr>\n",
       "  </thead>\n",
       "  <tbody>\n",
       "    <tr>\n",
       "      <th>0</th>\n",
       "      <td>1/1/2015</td>\n",
       "      <td>5317</td>\n",
       "      <td>0</td>\n",
       "      <td>1</td>\n",
       "      <td>33.0</td>\n",
       "      <td>39.0</td>\n",
       "      <td>27.0</td>\n",
       "      <td>37.0</td>\n",
       "      <td>46.0</td>\n",
       "      <td>27.0</td>\n",
       "    </tr>\n",
       "    <tr>\n",
       "      <th>1</th>\n",
       "      <td>1/10/2015</td>\n",
       "      <td>6109</td>\n",
       "      <td>1</td>\n",
       "      <td>1</td>\n",
       "      <td>20.0</td>\n",
       "      <td>23.0</td>\n",
       "      <td>16.0</td>\n",
       "      <td>41.0</td>\n",
       "      <td>47.0</td>\n",
       "      <td>34.0</td>\n",
       "    </tr>\n",
       "    <tr>\n",
       "      <th>2</th>\n",
       "      <td>1/11/2015</td>\n",
       "      <td>7467</td>\n",
       "      <td>1</td>\n",
       "      <td>1</td>\n",
       "      <td>28.0</td>\n",
       "      <td>37.0</td>\n",
       "      <td>18.0</td>\n",
       "      <td>38.0</td>\n",
       "      <td>47.0</td>\n",
       "      <td>29.0</td>\n",
       "    </tr>\n",
       "    <tr>\n",
       "      <th>3</th>\n",
       "      <td>1/12/2015</td>\n",
       "      <td>8645</td>\n",
       "      <td>0</td>\n",
       "      <td>1</td>\n",
       "      <td>37.0</td>\n",
       "      <td>39.0</td>\n",
       "      <td>35.0</td>\n",
       "      <td>64.0</td>\n",
       "      <td>92.0</td>\n",
       "      <td>35.0</td>\n",
       "    </tr>\n",
       "    <tr>\n",
       "      <th>4</th>\n",
       "      <td>1/13/2015</td>\n",
       "      <td>12797</td>\n",
       "      <td>0</td>\n",
       "      <td>1</td>\n",
       "      <td>27.0</td>\n",
       "      <td>36.0</td>\n",
       "      <td>17.0</td>\n",
       "      <td>61.0</td>\n",
       "      <td>82.0</td>\n",
       "      <td>39.0</td>\n",
       "    </tr>\n",
       "  </tbody>\n",
       "</table>\n",
       "</div>"
      ],
      "text/plain": [
       "        Date  total_trips  is_weekend  season  mean_temp  max_temp  min_temp  \\\n",
       "0   1/1/2015         5317           0       1       33.0      39.0      27.0   \n",
       "1  1/10/2015         6109           1       1       20.0      23.0      16.0   \n",
       "2  1/11/2015         7467           1       1       28.0      37.0      18.0   \n",
       "3  1/12/2015         8645           0       1       37.0      39.0      35.0   \n",
       "4  1/13/2015        12797           0       1       27.0      36.0      17.0   \n",
       "\n",
       "   average_humid  max_humid  min_humid  \n",
       "0           37.0       46.0       27.0  \n",
       "1           41.0       47.0       34.0  \n",
       "2           38.0       47.0       29.0  \n",
       "3           64.0       92.0       35.0  \n",
       "4           61.0       82.0       39.0  "
      ]
     },
     "execution_count": 46,
     "metadata": {},
     "output_type": "execute_result"
    }
   ],
   "source": [
    "data.head()"
   ]
  },
  {
   "cell_type": "code",
   "execution_count": 47,
   "metadata": {
    "collapsed": false
   },
   "outputs": [
    {
     "data": {
      "text/plain": [
       "count      365.000000\n",
       "mean     27227.312329\n",
       "std      13470.980912\n",
       "min       1107.000000\n",
       "25%      15234.000000\n",
       "50%      30295.000000\n",
       "75%      38285.000000\n",
       "max      52706.000000\n",
       "Name: total_trips, dtype: float64"
      ]
     },
     "execution_count": 47,
     "metadata": {},
     "output_type": "execute_result"
    }
   ],
   "source": [
    "data[\"total_trips\"].describe()"
   ]
  },
  {
   "cell_type": "code",
   "execution_count": 48,
   "metadata": {
    "collapsed": false
   },
   "outputs": [
    {
     "data": {
      "text/html": [
       "<table class=\"simpletable\">\n",
       "<caption>OLS Regression Results</caption>\n",
       "<tr>\n",
       "  <th>Dep. Variable:</th>       <td>total_trips</td>   <th>  R-squared:         </th> <td>   0.964</td> \n",
       "</tr>\n",
       "<tr>\n",
       "  <th>Model:</th>                   <td>OLS</td>       <th>  Adj. R-squared:    </th> <td>   0.964</td> \n",
       "</tr>\n",
       "<tr>\n",
       "  <th>Method:</th>             <td>Least Squares</td>  <th>  F-statistic:       </th> <td>   2421.</td> \n",
       "</tr>\n",
       "<tr>\n",
       "  <th>Date:</th>             <td>Thu, 12 Jan 2017</td> <th>  Prob (F-statistic):</th> <td>3.29e-259</td>\n",
       "</tr>\n",
       "<tr>\n",
       "  <th>Time:</th>                 <td>04:15:39</td>     <th>  Log-Likelihood:    </th> <td> -3678.2</td> \n",
       "</tr>\n",
       "<tr>\n",
       "  <th>No. Observations:</th>      <td>   365</td>      <th>  AIC:               </th> <td>   7364.</td> \n",
       "</tr>\n",
       "<tr>\n",
       "  <th>Df Residuals:</th>          <td>   361</td>      <th>  BIC:               </th> <td>   7380.</td> \n",
       "</tr>\n",
       "<tr>\n",
       "  <th>Df Model:</th>              <td>     4</td>      <th>                     </th>     <td> </td>    \n",
       "</tr>\n",
       "<tr>\n",
       "  <th>Covariance Type:</th>      <td>nonrobust</td>    <th>                     </th>     <td> </td>    \n",
       "</tr>\n",
       "</table>\n",
       "<table class=\"simpletable\">\n",
       "<tr>\n",
       "        <td></td>           <th>coef</th>     <th>std err</th>      <th>t</th>      <th>P>|t|</th> <th>[95.0% Conf. Int.]</th> \n",
       "</tr>\n",
       "<tr>\n",
       "  <th>season</th>        <td> 5116.0685</td> <td>  309.754</td> <td>   16.517</td> <td> 0.000</td> <td> 4506.920  5725.217</td>\n",
       "</tr>\n",
       "<tr>\n",
       "  <th>is_weekend</th>    <td>-6225.7085</td> <td>  662.218</td> <td>   -9.401</td> <td> 0.000</td> <td>-7527.998 -4923.420</td>\n",
       "</tr>\n",
       "<tr>\n",
       "  <th>mean_temp</th>     <td>  459.6265</td> <td>   17.020</td> <td>   27.006</td> <td> 0.000</td> <td>  426.156   493.097</td>\n",
       "</tr>\n",
       "<tr>\n",
       "  <th>average_humid</th> <td> -178.8363</td> <td>   15.541</td> <td>  -11.508</td> <td> 0.000</td> <td> -209.398  -148.275</td>\n",
       "</tr>\n",
       "</table>\n",
       "<table class=\"simpletable\">\n",
       "<tr>\n",
       "  <th>Omnibus:</th>       <td>31.847</td> <th>  Durbin-Watson:     </th> <td>   1.003</td>\n",
       "</tr>\n",
       "<tr>\n",
       "  <th>Prob(Omnibus):</th> <td> 0.000</td> <th>  Jarque-Bera (JB):  </th> <td>  48.856</td>\n",
       "</tr>\n",
       "<tr>\n",
       "  <th>Skew:</th>          <td>-0.586</td> <th>  Prob(JB):          </th> <td>2.46e-11</td>\n",
       "</tr>\n",
       "<tr>\n",
       "  <th>Kurtosis:</th>      <td> 4.356</td> <th>  Cond. No.          </th> <td>    181.</td>\n",
       "</tr>\n",
       "</table>"
      ],
      "text/plain": [
       "<class 'statsmodels.iolib.summary.Summary'>\n",
       "\"\"\"\n",
       "                            OLS Regression Results                            \n",
       "==============================================================================\n",
       "Dep. Variable:            total_trips   R-squared:                       0.964\n",
       "Model:                            OLS   Adj. R-squared:                  0.964\n",
       "Method:                 Least Squares   F-statistic:                     2421.\n",
       "Date:                Thu, 12 Jan 2017   Prob (F-statistic):          3.29e-259\n",
       "Time:                        04:15:39   Log-Likelihood:                -3678.2\n",
       "No. Observations:                 365   AIC:                             7364.\n",
       "Df Residuals:                     361   BIC:                             7380.\n",
       "Df Model:                           4                                         \n",
       "Covariance Type:            nonrobust                                         \n",
       "=================================================================================\n",
       "                    coef    std err          t      P>|t|      [95.0% Conf. Int.]\n",
       "---------------------------------------------------------------------------------\n",
       "season         5116.0685    309.754     16.517      0.000      4506.920  5725.217\n",
       "is_weekend    -6225.7085    662.218     -9.401      0.000     -7527.998 -4923.420\n",
       "mean_temp       459.6265     17.020     27.006      0.000       426.156   493.097\n",
       "average_humid  -178.8363     15.541    -11.508      0.000      -209.398  -148.275\n",
       "==============================================================================\n",
       "Omnibus:                       31.847   Durbin-Watson:                   1.003\n",
       "Prob(Omnibus):                  0.000   Jarque-Bera (JB):               48.856\n",
       "Skew:                          -0.586   Prob(JB):                     2.46e-11\n",
       "Kurtosis:                       4.356   Cond. No.                         181.\n",
       "==============================================================================\n",
       "\n",
       "Warnings:\n",
       "[1] Standard Errors assume that the covariance matrix of the errors is correctly specified.\n",
       "\"\"\""
      ]
     },
     "execution_count": 48,
     "metadata": {},
     "output_type": "execute_result"
    }
   ],
   "source": [
    "X = data.loc[:,[\"season\",\"is_weekend\",\"mean_temp\",\"average_humid\"]]\n",
    "y = data.loc[:,'total_trips']\n",
    "\n",
    "model = sm.OLS(y,X)\n",
    "results = model.fit()\n",
    "\n",
    "results.summary()"
   ]
  },
  {
   "cell_type": "code",
   "execution_count": 49,
   "metadata": {
    "collapsed": false
   },
   "outputs": [
    {
     "data": {
      "text/plain": [
       "season           5116.068537\n",
       "is_weekend      -6225.708531\n",
       "mean_temp         459.626498\n",
       "average_humid    -178.836254\n",
       "dtype: float64"
      ]
     },
     "execution_count": 49,
     "metadata": {},
     "output_type": "execute_result"
    }
   ],
   "source": [
    "results.params"
   ]
  },
  {
   "cell_type": "code",
   "execution_count": 50,
   "metadata": {
    "collapsed": false
   },
   "outputs": [],
   "source": [
    "x = data.drop([\"total_trips\",\"Date\"],1)\n",
    "y = data[\"total_trips\"]\n",
    "x_train, x_test, y_train, y_test = train_test_split(x, y, test_size = .2, random_state = 123)"
   ]
  },
  {
   "cell_type": "code",
   "execution_count": 51,
   "metadata": {
    "collapsed": false
   },
   "outputs": [
    {
     "name": "stdout",
     "output_type": "stream",
     "text": [
      "Coefficients: \n",
      " [-6486.67587866  5213.2062354   -454.53297717   616.84075156   265.05695269\n",
      "  -670.70265248   217.41091731   235.01834995]\n",
      "Mean squared error: 32417035.54\n",
      "Variance score: 0.83\n"
     ]
    }
   ],
   "source": [
    "model = LinearRegression()\n",
    "model.fit(x_train,y_train)\n",
    "# The coefficients\n",
    "print('Coefficients: \\n', model.coef_)\n",
    "# The mean squared error\n",
    "print(\"Mean squared error: %.2f\"\n",
    "      % np.mean((model.predict(x_test) - y_test) ** 2))\n",
    "# Explained variance score: 1 is perfect prediction\n",
    "print('Variance score: %.2f' % model.score(x_test, y_test))"
   ]
  },
  {
   "cell_type": "code",
   "execution_count": 52,
   "metadata": {
    "collapsed": false
   },
   "outputs": [
    {
     "name": "stdout",
     "output_type": "stream",
     "text": [
      "Coefficients: \n",
      " [-6377.33839248  5191.31491724  -406.55097119   592.22601058   242.17894047\n",
      "  -634.66295835   199.05332967   217.64986648]\n",
      "Mean squared error: 32459440.60\n",
      "Variance score: 0.83\n"
     ]
    }
   ],
   "source": [
    "model = Ridge()\n",
    "model.fit(x_train,y_train)\n",
    "# The coefficients\n",
    "print('Coefficients: \\n', model.coef_)\n",
    "# The mean squared error\n",
    "print(\"Mean squared error: %.2f\"\n",
    "      % np.mean((model.predict(x_test) - y_test) ** 2))\n",
    "# Explained variance score: 1 is perfect prediction\n",
    "print('Variance score: %.2f' % model.score(x_test, y_test))"
   ]
  }
 ],
 "metadata": {
  "anaconda-cloud": {},
  "kernelspec": {
   "display_name": "Python [Root]",
   "language": "python",
   "name": "Python [Root]"
  },
  "language_info": {
   "codemirror_mode": {
    "name": "ipython",
    "version": 3
   },
   "file_extension": ".py",
   "mimetype": "text/x-python",
   "name": "python",
   "nbconvert_exporter": "python",
   "pygments_lexer": "ipython3",
   "version": "3.5.2"
  }
 },
 "nbformat": 4,
 "nbformat_minor": 0
}
