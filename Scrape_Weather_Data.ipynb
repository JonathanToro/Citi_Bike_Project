{
 "cells": [
  {
   "cell_type": "code",
   "execution_count": 3,
   "metadata": {
    "collapsed": false
   },
   "outputs": [
    {
     "data": {
      "text/html": [
       "<style>.container { width:100% !important; }</style>"
      ],
      "text/plain": [
       "<IPython.core.display.HTML object>"
      ]
     },
     "metadata": {},
     "output_type": "display_data"
    }
   ],
   "source": [
    "from IPython.core.display import display, HTML\n",
    "display(HTML(\"<style>.container { width:100% !important; }</style>\"))\n",
    "\n",
    "import pandas as pd\n",
    "import numpy as np\n",
    "from bs4 import BeautifulSoup\n",
    "import requests\n",
    "import warnings\n",
    "import csv\n",
    "import time\n",
    "\n",
    "warnings.filterwarnings('ignore')"
   ]
  },
  {
   "cell_type": "markdown",
   "metadata": {},
   "source": [
    "## The following code scapes weather data from wunderground.com"
   ]
  },
  {
   "cell_type": "code",
   "execution_count": 4,
   "metadata": {
    "collapsed": true
   },
   "outputs": [],
   "source": [
    "root_url = \"https://www.wunderground.com/history/airport/KNYC/2015/\"\n",
    "second_part_url = \"/DailyHistory.html?req_city=New%20York&req_state=NY&req_statename=New%20York&reqdb.zip=10001&reqdb.magic=1&reqdb.wmo=99999&MR=1\""
   ]
  },
  {
   "cell_type": "code",
   "execution_count": 5,
   "metadata": {
    "collapsed": true
   },
   "outputs": [],
   "source": [
    "## Put all the dates of the year in a list\n",
    "month = list(range(1,13))\n",
    "days = list(range(1,32))\n",
    "\n",
    "days_of_year = []\n",
    "\n",
    "for m in month:\n",
    "    for d in days:\n",
    "        days_of_year.append(str(m) + \"/\" + str(d))"
   ]
  },
  {
   "cell_type": "code",
   "execution_count": 7,
   "metadata": {
    "collapsed": false
   },
   "outputs": [],
   "source": [
    "##Remove invalid days\n",
    "invalid_days = [\"2/29\",'2/30','2/31','4/31','6/31','9/31','11/31']\n",
    "indexes_to_remove = []\n",
    "for i in invalid_days:\n",
    "    indexes_to_remove.append(days_of_year.index(i))"
   ]
  },
  {
   "cell_type": "code",
   "execution_count": 10,
   "metadata": {
    "collapsed": false
   },
   "outputs": [],
   "source": [
    "for i in indexes_to_remove[::-1]:\n",
    "    days_of_year.pop(i)"
   ]
  },
  {
   "cell_type": "code",
   "execution_count": 12,
   "metadata": {
    "collapsed": false
   },
   "outputs": [],
   "source": [
    "links_to_scrape = []\n",
    "for i in days_of_year:\n",
    "    links_to_scrape.append(root_url + i + second_part_url)"
   ]
  },
  {
   "cell_type": "code",
   "execution_count": 117,
   "metadata": {
    "collapsed": false
   },
   "outputs": [],
   "source": [
    "## Function to collect data from the web\n",
    "def get_weather(url, date):\n",
    "    \n",
    "    response = requests.get(url)\n",
    "    page = response.text\n",
    "    soup = BeautifulSoup(page)\n",
    "    \n",
    "    address = soup.find(text=\"Mean Temperature\")\n",
    "    b_tag = address.parent\n",
    "    td_tag = b_tag.parent\n",
    "    next_td_tag = td_tag.findNext('td')\n",
    "    mean_temperature = next_td_tag.findNext(\"span\").findNext(\"span\").contents\n",
    "    \n",
    "    address = soup.find(text=\"Max Temperature\")\n",
    "    b_tag = address.parent\n",
    "    td_tag = b_tag.parent\n",
    "    next_td_tag = td_tag.findNext('td')\n",
    "    max_temperature = next_td_tag.findNext(\"span\").findNext(\"span\").contents\n",
    "    \n",
    "    address = soup.find(text=\"Min Temperature\")\n",
    "    b_tag = address.parent\n",
    "    td_tag = b_tag.parent\n",
    "    next_td_tag = td_tag.findNext('td')\n",
    "    min_temperature = next_td_tag.findNext(\"span\").findNext(\"span\").contents\n",
    "    \n",
    "    address = soup.find(text=\"Average Humidity\")\n",
    "    b_tag = address.parent\n",
    "    td_tag = b_tag.parent\n",
    "    next_td_tag = td_tag.findNext('td')\n",
    "    average_humidity = next_td_tag.contents\n",
    "    \n",
    "    address = soup.find(text=\"Maximum Humidity\")\n",
    "    b_tag = address.parent\n",
    "    td_tag = b_tag.parent\n",
    "    next_td_tag = td_tag.findNext('td')\n",
    "    max_humidity = next_td_tag.contents\n",
    "    \n",
    "    address = soup.find(text=\"Minimum Humidity\")\n",
    "    b_tag = address.parent\n",
    "    td_tag = b_tag.parent\n",
    "    next_td_tag = td_tag.findNext('td')\n",
    "    min_humidity = next_td_tag.contents\n",
    "    \n",
    "    return [date + '/2015', int(mean_temperature[0]), int(max_temperature[0]), int(min_temperature[0]), int(average_humidity[0]), int(max_humidity[0]), int(min_humidity[0])]"
   ]
  },
  {
   "cell_type": "code",
   "execution_count": 149,
   "metadata": {
    "collapsed": false
   },
   "outputs": [
    {
     "name": "stdout",
     "output_type": "stream",
     "text": [
      "50\n",
      "100\n",
      "150\n",
      "200\n",
      "250\n",
      "300\n",
      "350\n"
     ]
    }
   ],
   "source": [
    "##Scraping data for all days of 2015 and then storing it in a pandas dataframe\n",
    "weather = pd.DataFrame(columns=['Date', 'mean_temp', \"max_temp\", \"min_temp\", \"average_humid\", \"max_humid\", \"min_humid\"])\n",
    "count = 0\n",
    "for link, date in zip(links_to_scrape, days_of_year):\n",
    "    x = get_weather(link, date)\n",
    "    weather = weather.append(pd.Series(x, index=['Date', 'mean_temp', \"max_temp\", \"min_temp\", \"average_humid\", \"max_humid\", \"min_humid\"]), ignore_index=True)\n",
    "    count += 1\n",
    "    if count % 50 == 0:\n",
    "        print (count)"
   ]
  },
  {
   "cell_type": "code",
   "execution_count": 151,
   "metadata": {
    "collapsed": false
   },
   "outputs": [
    {
     "data": {
      "text/html": [
       "<div>\n",
       "<table border=\"1\" class=\"dataframe\">\n",
       "  <thead>\n",
       "    <tr style=\"text-align: right;\">\n",
       "      <th></th>\n",
       "      <th>Date</th>\n",
       "      <th>mean_temp</th>\n",
       "      <th>max_temp</th>\n",
       "      <th>min_temp</th>\n",
       "      <th>average_humid</th>\n",
       "      <th>max_humid</th>\n",
       "      <th>min_humid</th>\n",
       "    </tr>\n",
       "  </thead>\n",
       "  <tbody>\n",
       "    <tr>\n",
       "      <th>0</th>\n",
       "      <td>1/1/2015</td>\n",
       "      <td>33.0</td>\n",
       "      <td>39.0</td>\n",
       "      <td>27.0</td>\n",
       "      <td>37.0</td>\n",
       "      <td>46.0</td>\n",
       "      <td>27.0</td>\n",
       "    </tr>\n",
       "    <tr>\n",
       "      <th>1</th>\n",
       "      <td>1/2/2015</td>\n",
       "      <td>39.0</td>\n",
       "      <td>42.0</td>\n",
       "      <td>35.0</td>\n",
       "      <td>43.0</td>\n",
       "      <td>52.0</td>\n",
       "      <td>33.0</td>\n",
       "    </tr>\n",
       "    <tr>\n",
       "      <th>2</th>\n",
       "      <td>1/3/2015</td>\n",
       "      <td>38.0</td>\n",
       "      <td>42.0</td>\n",
       "      <td>33.0</td>\n",
       "      <td>68.0</td>\n",
       "      <td>92.0</td>\n",
       "      <td>44.0</td>\n",
       "    </tr>\n",
       "    <tr>\n",
       "      <th>3</th>\n",
       "      <td>1/4/2015</td>\n",
       "      <td>49.0</td>\n",
       "      <td>56.0</td>\n",
       "      <td>41.0</td>\n",
       "      <td>88.0</td>\n",
       "      <td>93.0</td>\n",
       "      <td>83.0</td>\n",
       "    </tr>\n",
       "    <tr>\n",
       "      <th>4</th>\n",
       "      <td>1/5/2015</td>\n",
       "      <td>35.0</td>\n",
       "      <td>49.0</td>\n",
       "      <td>21.0</td>\n",
       "      <td>38.0</td>\n",
       "      <td>49.0</td>\n",
       "      <td>26.0</td>\n",
       "    </tr>\n",
       "  </tbody>\n",
       "</table>\n",
       "</div>"
      ],
      "text/plain": [
       "       Date  mean_temp  max_temp  min_temp  average_humid  max_humid  \\\n",
       "0  1/1/2015       33.0      39.0      27.0           37.0       46.0   \n",
       "1  1/2/2015       39.0      42.0      35.0           43.0       52.0   \n",
       "2  1/3/2015       38.0      42.0      33.0           68.0       92.0   \n",
       "3  1/4/2015       49.0      56.0      41.0           88.0       93.0   \n",
       "4  1/5/2015       35.0      49.0      21.0           38.0       49.0   \n",
       "\n",
       "   min_humid  \n",
       "0       27.0  \n",
       "1       33.0  \n",
       "2       44.0  \n",
       "3       83.0  \n",
       "4       26.0  "
      ]
     },
     "execution_count": 151,
     "metadata": {},
     "output_type": "execute_result"
    }
   ],
   "source": [
    "weather.head()"
   ]
  },
  {
   "cell_type": "code",
   "execution_count": 152,
   "metadata": {
    "collapsed": true
   },
   "outputs": [],
   "source": [
    "weather.to_csv(\"weather_data.csv\")"
   ]
  }
 ],
 "metadata": {
  "anaconda-cloud": {},
  "kernelspec": {
   "display_name": "Python [Root]",
   "language": "python",
   "name": "Python [Root]"
  },
  "language_info": {
   "codemirror_mode": {
    "name": "ipython",
    "version": 3
   },
   "file_extension": ".py",
   "mimetype": "text/x-python",
   "name": "python",
   "nbconvert_exporter": "python",
   "pygments_lexer": "ipython3",
   "version": "3.5.2"
  }
 },
 "nbformat": 4,
 "nbformat_minor": 0
}
